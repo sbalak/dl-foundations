{
  "cells": [
    {
      "cell_type": "markdown",
      "metadata": {
        "id": "w1eOuVn9NGmF"
      },
      "source": [
        "# Regression from Scratch"
      ]
    },
    {
      "cell_type": "code",
      "execution_count": null,
      "metadata": {
        "id": "ZjicYQ5zNGmG"
      },
      "outputs": [],
      "source": [
        "import torch\n",
        "import matplotlib.pyplot as plt\n",
        "\n",
        "xs = torch.tensor([0, 1, 2, 3, 4, 5, 6, 7.])\n",
        "ys = torch.tensor([1.86, 1.31, .62, .33, .09, -.67, -1.23, -1.37])\n",
        "\n",
        "m = torch.tensor([0.9])\n",
        "b = torch.tensor([0.1])\n",
        "\n",
        "lr = 0.01\n",
        "\n",
        "def regression(x, m, b):\n",
        "    return m*x + b\n",
        "\n",
        "def plot(x, y, m, b, m_grad, b_grad, C):\n",
        "    \n",
        "    title = 'Cost = {}'.format('%.3g' % C)\n",
        "\n",
        "    xlabel = 'm = {}, m_grad = {}'.format('%.3g' % m, '%.3g' % m_grad)        \n",
        "    ylabel = 'b = {}, b_grad = {}'.format('%.3g' % b, '%.3g' % b_grad)\n",
        "\n",
        "    fig, ax = plt.subplots()\n",
        "    \n",
        "    plt.title(title)\n",
        "    plt.ylabel(ylabel)\n",
        "    plt.xlabel(xlabel)\n",
        "\n",
        "    ax.scatter(x, y)\n",
        "    \n",
        "    x_min, x_max = ax.get_xlim()\n",
        "    y_min = regression(x_min, m, b)\n",
        "    y_max = regression(x_max, m, b)\n",
        "\n",
        "    ax.set_xlim([x_min, x_max])\n",
        "    _ = ax.plot([x_min, x_max], [y_min, y_max], c='C01')\n",
        "\n",
        "def mse(y_pred, y): \n",
        "    sigma = torch.sum((y_pred - y)**2)\n",
        "    return sigma/len(y)\n",
        "\n",
        "def calculate_gradient(x, y, y_pred):\n",
        "    m_grad = 2*1/len(y)*torch.sum((y_pred - y)*x)\n",
        "    b_grad = 2*1/len(y)*torch.sum(y_pred - y)\n",
        "    return (b_grad, m_grad)"
      ]
    },
    {
      "cell_type": "markdown",
      "metadata": {
        "id": "gM5qQwd_NGmS"
      },
      "source": [
        "**Step 1**: Forward Pass"
      ]
    },
    {
      "cell_type": "code",
      "execution_count": null,
      "metadata": {
        "colab": {
          "base_uri": "https://localhost:8080/"
        },
        "id": "8IRq0BEENGmS",
        "outputId": "69b26d70-d224-4b19-f912-aa212554832b"
      },
      "outputs": [],
      "source": [
        "y_pred = regression(xs, m, b)"
      ]
    },
    {
      "cell_type": "markdown",
      "metadata": {
        "id": "MA8FiSK5NGmV"
      },
      "source": [
        "**Step 2**: Compare $\\hat{y}$ with $y$ to calculate cost $C$"
      ]
    },
    {
      "cell_type": "code",
      "execution_count": null,
      "metadata": {
        "id": "KXhJySbJNGmW"
      },
      "outputs": [],
      "source": [
        "C = mse(y_pred, ys)\n",
        "\n",
        "print('Cost: {}, m: {}, b: {}'.format('%.3g' % C, '%.3g' % m, '%.3g' % b))"
      ]
    },
    {
      "cell_type": "markdown",
      "metadata": {
        "id": "ZDlyFxhFNGmb"
      },
      "source": [
        "**Step 3**: Use derivative to calculate gradient of $C$ w.r.t. parameters"
      ]
    },
    {
      "cell_type": "code",
      "execution_count": null,
      "metadata": {
        "colab": {
          "base_uri": "https://localhost:8080/"
        },
        "id": "55hFPIYqNGmk",
        "outputId": "045bb2b4-ff21-46c1-cada-a55cb2e397b2"
      },
      "outputs": [],
      "source": [
        "b_grad, m_grad = calculate_gradient(xs, ys, y_pred)\n",
        "gradient = torch.tensor([[b_grad, m_grad]]).T\n",
        "theta = torch.tensor([[b, m]]).T\n",
        "\n",
        "print('Cost: {}, m: {}, b: {}, m_grad: {}, b_grad: {}'.format('%.3g' % C, '%.3g' % m, '%.3g' % b, '%.3g' % m_grad, '%.3g' % b_grad))"
      ]
    },
    {
      "cell_type": "markdown",
      "metadata": {
        "id": "Qv9b6XhbNGmt"
      },
      "source": [
        "**Step 4**: Gradient descent"
      ]
    },
    {
      "cell_type": "code",
      "execution_count": null,
      "metadata": {
        "id": "f2LMBXARNGmu"
      },
      "outputs": [],
      "source": [
        "new_theta = theta - lr*gradient # Gradient Scaling - lr*gradient\n",
        "b = new_theta[0]\n",
        "m = new_theta[1]\n",
        "\n",
        "print('Cost: {}, m: {}, b: {}, m_grad: {}, b_grad: {}'.format('%.3g' % C, '%.3g' % m, '%.3g' % b, '%.3g' % m_grad, '%.3g' % b_grad))"
      ]
    },
    {
      "cell_type": "markdown",
      "metadata": {
        "id": "xdbwrKZRNGm3"
      },
      "source": [
        "### Training"
      ]
    },
    {
      "cell_type": "code",
      "execution_count": null,
      "metadata": {},
      "outputs": [],
      "source": [
        "epochs = 1000\n",
        "for epoch in range(epochs):\n",
        "    \n",
        "    y_pred = regression(xs, m, b) # Step 1\n",
        "    C = mse(y_pred, ys) # Step 2\n",
        "    \n",
        "    # step 3\n",
        "    b_grad, m_grad = calculate_gradient(xs, ys, y_pred)\n",
        "    gradient = torch.tensor([[b_grad, m_grad]]).T\n",
        "    theta = torch.tensor([[b, m]]).T     \n",
        "    \n",
        "    print('Epoch: {}, Cost: {}, m: {}, b: {}, m_grad: {}, b_grad: {}'.format(epoch, '%.3g' % C, '%.3g' % m, '%.3g' % b, '%.3g' % m_grad, '%.3g' % b_grad))\n",
        "    \n",
        "    # Step 4\n",
        "    new_theta = theta - lr*gradient\n",
        "    b = new_theta[0]\n",
        "    m = new_theta[1]"
      ]
    },
    {
      "cell_type": "code",
      "execution_count": null,
      "metadata": {},
      "outputs": [],
      "source": [
        "plot(xs, ys, m, b, m_grad, b_grad, C)"
      ]
    }
  ],
  "metadata": {
    "colab": {
      "include_colab_link": true,
      "name": "batch-regression-gradient.ipynb",
      "provenance": []
    },
    "kernelspec": {
      "display_name": "Python 3",
      "language": "python",
      "name": "python3"
    },
    "language_info": {
      "codemirror_mode": {
        "name": "ipython",
        "version": 3
      },
      "file_extension": ".py",
      "mimetype": "text/x-python",
      "name": "python",
      "nbconvert_exporter": "python",
      "pygments_lexer": "ipython3",
      "version": "3.12.1"
    }
  },
  "nbformat": 4,
  "nbformat_minor": 0
}
