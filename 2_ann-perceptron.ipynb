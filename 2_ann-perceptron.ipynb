{
 "cells": [
  {
   "cell_type": "code",
   "execution_count": 2,
   "metadata": {},
   "outputs": [
    {
     "name": "stdout",
     "output_type": "stream",
     "text": [
      "Random synaptic weight: \n",
      "[[-0.16595599]\n",
      " [ 0.44064899]\n",
      " [-0.99977125]]\n",
      "Weights after training: \n",
      "[[17.04822022]\n",
      " [-0.4053894 ]\n",
      " [-7.92876867]]\n",
      "New situation: input data = 1 1 1\n",
      "Output data: \n",
      "[[0.99983577]]\n"
     ]
    }
   ],
   "source": [
    "import numpy as np\n",
    "\n",
    "class NeuralNetwork():\n",
    "\n",
    "    def __init__(self):\n",
    "        np.random.seed(1)\n",
    "        self.weights = 2 * np.random.random((3,1)) - 1\n",
    "\n",
    "    def sigmoid(self, x):\n",
    "        return 1 / (1 + np.exp(-x))\n",
    "    \n",
    "    def sigmoid_derivative(self, x):\n",
    "        return x * (1 - x)\n",
    "    \n",
    "    def train(self, training_inputs, training_outputs, training_iterations):\n",
    "        for iterations in range(training_iterations):\n",
    "            outputs = self.fit(training_inputs) # Forward Pass\n",
    "            error = training_outputs - outputs # Compare y_pred with y to calculate error\n",
    "            adjustments = np.dot(training_inputs.T, error * self.sigmoid(outputs)) # Backpropagation\n",
    "            self.weights += adjustments # Gradient Descent\n",
    "\n",
    "    def fit(self, inputs):\n",
    "        inputs = inputs.astype(float)\n",
    "        output = self.sigmoid(np.dot(inputs, self.weights))\n",
    "        return output\n",
    "    \n",
    "if __name__ == \"__main__\":\n",
    "    model = NeuralNetwork()\n",
    "\n",
    "    print('Random weights: ')\n",
    "    print(model.weights)\n",
    "\n",
    "    training_inputs = np.array([[0,0,1],\n",
    "                                [1,1,1],\n",
    "                                [1,0,1],\n",
    "                                [0,1,1]])\n",
    "\n",
    "    training_outputs = np.array([[0,1,1,0]]).T\n",
    "\n",
    "    model.train(training_inputs, training_outputs, 10000)\n",
    "\n",
    "    print('Weights after training: ')\n",
    "    print(model.weights)\n",
    "\n",
    "    A = str(input('Input 1: '))\n",
    "    B = str(input('Input 2: '))\n",
    "    C = str(input('Input 3: '))\n",
    "\n",
    "    print('Conduct tests: input data =', A, B, C)\n",
    "    print('Output data: ')\n",
    "    print(model.fit(np.array([[A,B,C]])))\n",
    "\n"
   ]
  }
 ],
 "metadata": {
  "kernelspec": {
   "display_name": "Python 3",
   "language": "python",
   "name": "python3"
  },
  "language_info": {
   "codemirror_mode": {
    "name": "ipython",
    "version": 3
   },
   "file_extension": ".py",
   "mimetype": "text/x-python",
   "name": "python",
   "nbconvert_exporter": "python",
   "pygments_lexer": "ipython3",
   "version": "3.12.1"
  }
 },
 "nbformat": 4,
 "nbformat_minor": 2
}
